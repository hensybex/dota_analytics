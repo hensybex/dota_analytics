{
 "cells": [
  {
   "cell_type": "code",
   "execution_count": 1,
   "metadata": {},
   "outputs": [],
   "source": [
    "import requests\n",
    "import pandas as pd\n",
    "#import fsspec\n",
    "from datetime import datetime, timedelta\n",
    "from io import StringIO\n",
    "import time"
   ]
  },
  {
   "cell_type": "code",
   "execution_count": 2,
   "metadata": {},
   "outputs": [],
   "source": [
    "apikey = '/?key=4D52001F08216AA0FCD419BD3458DC28'"
   ]
  },
  {
   "cell_type": "code",
   "execution_count": 38,
   "metadata": {},
   "outputs": [],
   "source": [
    "#steam_User\n",
    "payload = {'key': '4D52001F08216AA0FCD419BD3458DC28', 'match_id': 909523648}\n",
    "request_url = 'https://api.steampowered.com/IDOTA2Match_570/GetMatchDetails/V001'\n",
    "r = requests.get(request_url, params=payload)"
   ]
  },
  {
   "cell_type": "code",
   "execution_count": 40,
   "metadata": {},
   "outputs": [
    {
     "data": {
      "text/html": [
       "<div>\n",
       "<style scoped>\n",
       "    .dataframe tbody tr th:only-of-type {\n",
       "        vertical-align: middle;\n",
       "    }\n",
       "\n",
       "    .dataframe tbody tr th {\n",
       "        vertical-align: top;\n",
       "    }\n",
       "\n",
       "    .dataframe thead th {\n",
       "        text-align: right;\n",
       "    }\n",
       "</style>\n",
       "<table border=\"1\" class=\"dataframe\">\n",
       "  <thead>\n",
       "    <tr style=\"text-align: right;\">\n",
       "      <th></th>\n",
       "      <th>result</th>\n",
       "    </tr>\n",
       "  </thead>\n",
       "  <tbody>\n",
       "    <tr>\n",
       "      <th>barracks_status_dire</th>\n",
       "      <td>63</td>\n",
       "    </tr>\n",
       "    <tr>\n",
       "      <th>barracks_status_radiant</th>\n",
       "      <td>63</td>\n",
       "    </tr>\n",
       "    <tr>\n",
       "      <th>cluster</th>\n",
       "      <td>133</td>\n",
       "    </tr>\n",
       "    <tr>\n",
       "      <th>dire_captain</th>\n",
       "      <td>49317728</td>\n",
       "    </tr>\n",
       "    <tr>\n",
       "      <th>dire_logo</th>\n",
       "      <td>802116058284669897</td>\n",
       "    </tr>\n",
       "    <tr>\n",
       "      <th>dire_name</th>\n",
       "      <td>compLexity Gaming</td>\n",
       "    </tr>\n",
       "    <tr>\n",
       "      <th>dire_score</th>\n",
       "      <td>0</td>\n",
       "    </tr>\n",
       "    <tr>\n",
       "      <th>dire_team_complete</th>\n",
       "      <td>1</td>\n",
       "    </tr>\n",
       "    <tr>\n",
       "      <th>dire_team_id</th>\n",
       "      <td>3</td>\n",
       "    </tr>\n",
       "    <tr>\n",
       "      <th>duration</th>\n",
       "      <td>1351</td>\n",
       "    </tr>\n",
       "    <tr>\n",
       "      <th>engine</th>\n",
       "      <td>0</td>\n",
       "    </tr>\n",
       "    <tr>\n",
       "      <th>first_blood_time</th>\n",
       "      <td>157</td>\n",
       "    </tr>\n",
       "    <tr>\n",
       "      <th>flags</th>\n",
       "      <td>0</td>\n",
       "    </tr>\n",
       "    <tr>\n",
       "      <th>game_mode</th>\n",
       "      <td>2</td>\n",
       "    </tr>\n",
       "    <tr>\n",
       "      <th>human_players</th>\n",
       "      <td>10</td>\n",
       "    </tr>\n",
       "    <tr>\n",
       "      <th>leagueid</th>\n",
       "      <td>1761</td>\n",
       "    </tr>\n",
       "    <tr>\n",
       "      <th>lobby_type</th>\n",
       "      <td>1</td>\n",
       "    </tr>\n",
       "    <tr>\n",
       "      <th>match_id</th>\n",
       "      <td>909523648</td>\n",
       "    </tr>\n",
       "    <tr>\n",
       "      <th>match_seq_num</th>\n",
       "      <td>814006708</td>\n",
       "    </tr>\n",
       "    <tr>\n",
       "      <th>negative_votes</th>\n",
       "      <td>1</td>\n",
       "    </tr>\n",
       "    <tr>\n",
       "      <th>picks_bans</th>\n",
       "      <td>[{'is_pick': False, 'hero_id': 34, 'team': 0, ...</td>\n",
       "    </tr>\n",
       "    <tr>\n",
       "      <th>players</th>\n",
       "      <td>[{'account_id': 89137399, 'player_slot': 0, 'h...</td>\n",
       "    </tr>\n",
       "    <tr>\n",
       "      <th>positive_votes</th>\n",
       "      <td>8</td>\n",
       "    </tr>\n",
       "    <tr>\n",
       "      <th>pre_game_duration</th>\n",
       "      <td>0</td>\n",
       "    </tr>\n",
       "    <tr>\n",
       "      <th>radiant_captain</th>\n",
       "      <td>89137399</td>\n",
       "    </tr>\n",
       "    <tr>\n",
       "      <th>radiant_logo</th>\n",
       "      <td>1740069961068193325</td>\n",
       "    </tr>\n",
       "    <tr>\n",
       "      <th>radiant_name</th>\n",
       "      <td>Virtus.pro</td>\n",
       "    </tr>\n",
       "    <tr>\n",
       "      <th>radiant_score</th>\n",
       "      <td>0</td>\n",
       "    </tr>\n",
       "    <tr>\n",
       "      <th>radiant_team_complete</th>\n",
       "      <td>1</td>\n",
       "    </tr>\n",
       "    <tr>\n",
       "      <th>radiant_team_id</th>\n",
       "      <td>1883502</td>\n",
       "    </tr>\n",
       "    <tr>\n",
       "      <th>radiant_win</th>\n",
       "      <td>True</td>\n",
       "    </tr>\n",
       "    <tr>\n",
       "      <th>start_time</th>\n",
       "      <td>1411236053</td>\n",
       "    </tr>\n",
       "    <tr>\n",
       "      <th>tower_status_dire</th>\n",
       "      <td>1844</td>\n",
       "    </tr>\n",
       "    <tr>\n",
       "      <th>tower_status_radiant</th>\n",
       "      <td>1974</td>\n",
       "    </tr>\n",
       "  </tbody>\n",
       "</table>\n",
       "</div>"
      ],
      "text/plain": [
       "                                                                    result\n",
       "barracks_status_dire                                                    63\n",
       "barracks_status_radiant                                                 63\n",
       "cluster                                                                133\n",
       "dire_captain                                                      49317728\n",
       "dire_logo                                               802116058284669897\n",
       "dire_name                                                compLexity Gaming\n",
       "dire_score                                                               0\n",
       "dire_team_complete                                                       1\n",
       "dire_team_id                                                             3\n",
       "duration                                                              1351\n",
       "engine                                                                   0\n",
       "first_blood_time                                                       157\n",
       "flags                                                                    0\n",
       "game_mode                                                                2\n",
       "human_players                                                           10\n",
       "leagueid                                                              1761\n",
       "lobby_type                                                               1\n",
       "match_id                                                         909523648\n",
       "match_seq_num                                                    814006708\n",
       "negative_votes                                                           1\n",
       "picks_bans               [{'is_pick': False, 'hero_id': 34, 'team': 0, ...\n",
       "players                  [{'account_id': 89137399, 'player_slot': 0, 'h...\n",
       "positive_votes                                                           8\n",
       "pre_game_duration                                                        0\n",
       "radiant_captain                                                   89137399\n",
       "radiant_logo                                           1740069961068193325\n",
       "radiant_name                                                    Virtus.pro\n",
       "radiant_score                                                            0\n",
       "radiant_team_complete                                                    1\n",
       "radiant_team_id                                                    1883502\n",
       "radiant_win                                                           True\n",
       "start_time                                                      1411236053\n",
       "tower_status_dire                                                     1844\n",
       "tower_status_radiant                                                  1974"
      ]
     },
     "execution_count": 40,
     "metadata": {},
     "output_type": "execute_result"
    }
   ],
   "source": [
    "pd.read_json(r.text)"
   ]
  },
  {
   "cell_type": "code",
   "execution_count": 23,
   "metadata": {},
   "outputs": [
    {
     "data": {
      "text/plain": [
       "\"<html><head><title>Not Found</title></head><body><h1>Not Found</h1>Interface 'IDOTA2Match_909614535' not found</body></html>\""
      ]
     },
     "execution_count": 23,
     "metadata": {},
     "output_type": "execute_result"
    }
   ],
   "source": [
    "r.text"
   ]
  },
  {
   "cell_type": "code",
   "execution_count": 159,
   "metadata": {},
   "outputs": [],
   "source": [
    "#dota_leaderboards\n",
    "payload = {'appid': '570'}\n",
    "#payload = {'apikey': '4D52001F08216AA0FCD419BD3458DC28'}\n",
    "request_url = 'https://api.steampowered.com/ISteamLeaderboards/GetLeaderboardsForGame/v2/'  + apikey\n",
    "r = requests.get(request_url, params=payload)"
   ]
  },
  {
   "cell_type": "code",
   "execution_count": 160,
   "metadata": {},
   "outputs": [
    {
     "data": {
      "text/plain": [
       "'<html><head><title>Forbidden</title></head><body><h1>Forbidden</h1>Access is denied. Retrying will not help. Please verify your <pre>key=</pre> parameter.</body></html>'"
      ]
     },
     "execution_count": 160,
     "metadata": {},
     "output_type": "execute_result"
    }
   ],
   "source": [
    "r.text"
   ]
  },
  {
   "cell_type": "code",
   "execution_count": 70,
   "metadata": {},
   "outputs": [],
   "source": [
    "payload = {'account_id': '4294967295'}\n",
    "#payload = {'apikey': '4D52001F08216AA0FCD419BD3458DC28'}\n",
    "request_url = 'https://api.steampowered.com/IDOTA2AutomatedTourney_570/GetPlayerHistory/V001/'  + apikey\n",
    "r = requests.get(request_url, params=payload)"
   ]
  },
  {
   "cell_type": "code",
   "execution_count": 74,
   "metadata": {},
   "outputs": [],
   "source": [
    "payload = {'account_id': '4294967296'}\n",
    "#payload = {'apikey': '4D52001F08216AA0FCD419BD3458DC28'}\n",
    "request_url = 'https://api.steampowered.com/IDOTA2Match_570/GetMatchHistory/V001/' + apikey\n",
    "r = requests.get(request_url, params=payload)"
   ]
  },
  {
   "cell_type": "code",
   "execution_count": 40,
   "metadata": {},
   "outputs": [],
   "source": [
    "account_id = 4294967295\n",
    "request_url = 'https://api.steampowered.com/IDOTA2AutomatedTourney_570/GetPlayerHistory/v1/?' + '&key=4D52001F08216AA0FCD419BD3458DC28' + '&account_id=4294967295'\n",
    "r = (requests.get(request_url).text)"
   ]
  },
  {
   "cell_type": "code",
   "execution_count": 80,
   "metadata": {},
   "outputs": [
    {
     "data": {
      "text/html": [
       "<div>\n",
       "<style scoped>\n",
       "    .dataframe tbody tr th:only-of-type {\n",
       "        vertical-align: middle;\n",
       "    }\n",
       "\n",
       "    .dataframe tbody tr th {\n",
       "        vertical-align: top;\n",
       "    }\n",
       "\n",
       "    .dataframe thead th {\n",
       "        text-align: right;\n",
       "    }\n",
       "</style>\n",
       "<table border=\"1\" class=\"dataframe\">\n",
       "  <thead>\n",
       "    <tr style=\"text-align: right;\">\n",
       "      <th></th>\n",
       "      <th>result</th>\n",
       "    </tr>\n",
       "  </thead>\n",
       "  <tbody>\n",
       "    <tr>\n",
       "      <th>matches</th>\n",
       "      <td>[{'match_id': 6228769740, 'match_seq_num': 520...</td>\n",
       "    </tr>\n",
       "    <tr>\n",
       "      <th>num_results</th>\n",
       "      <td>100</td>\n",
       "    </tr>\n",
       "    <tr>\n",
       "      <th>results_remaining</th>\n",
       "      <td>400</td>\n",
       "    </tr>\n",
       "    <tr>\n",
       "      <th>status</th>\n",
       "      <td>1</td>\n",
       "    </tr>\n",
       "    <tr>\n",
       "      <th>total_results</th>\n",
       "      <td>500</td>\n",
       "    </tr>\n",
       "  </tbody>\n",
       "</table>\n",
       "</div>"
      ],
      "text/plain": [
       "                                                              result\n",
       "matches            [{'match_id': 6228769740, 'match_seq_num': 520...\n",
       "num_results                                                      100\n",
       "results_remaining                                                400\n",
       "status                                                             1\n",
       "total_results                                                    500"
      ]
     },
     "execution_count": 80,
     "metadata": {},
     "output_type": "execute_result"
    }
   ],
   "source": [
    "pd.read_json(r.text)"
   ]
  },
  {
   "cell_type": "code",
   "execution_count": 13,
   "metadata": {},
   "outputs": [
    {
     "data": {
      "text/plain": [
       "{'match_id': 6228731746,\n",
       " 'match_seq_num': 5208256467,\n",
       " 'start_time': 1634564217,\n",
       " 'lobby_type': 14,\n",
       " 'radiant_team_id': 0,\n",
       " 'dire_team_id': 0,\n",
       " 'players': [{'player_slot': 0, 'hero_id': 49},\n",
       "  {'player_slot': 1, 'hero_id': 29},\n",
       "  {'player_slot': 2, 'hero_id': 22},\n",
       "  {'player_slot': 3, 'hero_id': 26},\n",
       "  {'player_slot': 4, 'hero_id': 20},\n",
       "  {'player_slot': 128, 'hero_id': 64},\n",
       "  {'player_slot': 129, 'hero_id': 47},\n",
       "  {'player_slot': 130, 'hero_id': 21},\n",
       "  {'player_slot': 131, 'hero_id': 30},\n",
       "  {'player_slot': 132, 'hero_id': 6}]}"
      ]
     },
     "execution_count": 13,
     "metadata": {},
     "output_type": "execute_result"
    }
   ],
   "source": [
    "pd.read_json(r).loc['matches']['result'][2]"
   ]
  },
  {
   "cell_type": "code",
   "execution_count": null,
   "metadata": {},
   "outputs": [],
   "source": []
  },
  {
   "cell_type": "code",
   "execution_count": 56,
   "metadata": {},
   "outputs": [],
   "source": [
    "#request_url = 'https://api.steampowered.com/IDOTA2Match_570/GetLiveLeagueGames/v1/?4D52001F08216AA0FCD419BD3458DC28'\n",
    "#request_url = 'https://api.steampowered.com/IDOTA2Match_570/GetLiveLeagueGames/v1/?key=4D52001F08216AA0FCD419BD3458DC28&steamids=*SteamID*'\n",
    "apikey = '/?key=4D52001F08216AA0FCD419BD3458DC28'\n",
    "request_url = 'https://api.steampowered.com/IDOTA2Fantasy_205790/GetPlayerOfficialInfo/v1' + apikey + '&accountid=1'\n",
    "r = (requests.get(request_url).text)\n",
    "#r = requests.get('https://api.opendota.com/api/proPlayers')"
   ]
  },
  {
   "cell_type": "code",
   "execution_count": null,
   "metadata": {},
   "outputs": [],
   "source": []
  },
  {
   "cell_type": "code",
   "execution_count": null,
   "metadata": {},
   "outputs": [],
   "source": []
  },
  {
   "cell_type": "code",
   "execution_count": 57,
   "metadata": {},
   "outputs": [
    {
     "data": {
      "text/plain": [
       "'https://api.steampowered.com/IDOTA2Fantasy_205790/GetPlayerOfficialInfo/v1/?key=4D52001F08216AA0FCD419BD3458DC28&accountid=1'"
      ]
     },
     "execution_count": 57,
     "metadata": {},
     "output_type": "execute_result"
    }
   ],
   "source": [
    "request_url"
   ]
  },
  {
   "cell_type": "code",
   "execution_count": 58,
   "metadata": {},
   "outputs": [
    {
     "data": {
      "text/plain": [
       "'{\\n\"result\":{\\n\"Name\":\"\",\\n\"TeamName\":\"\",\\n\"TeamTag\":\"\",\\n\"Sponsor\":\"\",\\n\"FantasyRole\":0\\n}\\n}'"
      ]
     },
     "execution_count": 58,
     "metadata": {},
     "output_type": "execute_result"
    }
   ],
   "source": [
    "r"
   ]
  },
  {
   "cell_type": "code",
   "execution_count": 43,
   "metadata": {},
   "outputs": [
    {
     "data": {
      "text/plain": [
       "57523"
      ]
     },
     "execution_count": 43,
     "metadata": {},
     "output_type": "execute_result"
    }
   ],
   "source": [
    "len(r)"
   ]
  },
  {
   "cell_type": "code",
   "execution_count": 7,
   "metadata": {},
   "outputs": [],
   "source": [
    "from steam.webapi import WebAPI\n",
    "api = WebAPI(key=\"4D52001F08216AA0FCD419BD3458DC28\")"
   ]
  },
  {
   "cell_type": "code",
   "execution_count": 8,
   "metadata": {},
   "outputs": [
    {
     "data": {
      "text/plain": [
       "{'servertime': 1633956815, 'servertimestring': 'Mon Oct 11 05:53:35 2021'}"
      ]
     },
     "execution_count": 8,
     "metadata": {},
     "output_type": "execute_result"
    }
   ],
   "source": [
    "api.ISteamWebAPIUtil.GetServerInfo()"
   ]
  },
  {
   "cell_type": "code",
   "execution_count": 12,
   "metadata": {},
   "outputs": [
    {
     "ename": "ValueError",
     "evalue": "not enough values to unpack (expected 2, got 1)",
     "output_type": "error",
     "traceback": [
      "\u001b[0;31m---------------------------------------------------------------------------\u001b[0m",
      "\u001b[0;31mValueError\u001b[0m                                Traceback (most recent call last)",
      "\u001b[0;32m<ipython-input-12-debe59e6522f>\u001b[0m in \u001b[0;36m<module>\u001b[0;34m\u001b[0m\n\u001b[0;32m----> 1\u001b[0;31m \u001b[0mapi\u001b[0m\u001b[0;34m.\u001b[0m\u001b[0mcall\u001b[0m\u001b[0;34m(\u001b[0m\u001b[0;34m'ISteamNews/GetNewsForApp/v2/?appid=440&count=3'\u001b[0m\u001b[0;34m)\u001b[0m\u001b[0;34m\u001b[0m\u001b[0;34m\u001b[0m\u001b[0m\n\u001b[0m",
      "\u001b[0;32m/usr/local/lib/python3.7/site-packages/steam/webapi.py\u001b[0m in \u001b[0;36mcall\u001b[0;34m(self, method_path, **kwargs)\u001b[0m\n\u001b[1;32m    164\u001b[0m         \"\"\"\n\u001b[1;32m    165\u001b[0m \u001b[0;34m\u001b[0m\u001b[0m\n\u001b[0;32m--> 166\u001b[0;31m         \u001b[0minterface\u001b[0m\u001b[0;34m,\u001b[0m \u001b[0mmethod\u001b[0m \u001b[0;34m=\u001b[0m \u001b[0mmethod_path\u001b[0m\u001b[0;34m.\u001b[0m\u001b[0msplit\u001b[0m\u001b[0;34m(\u001b[0m\u001b[0;34m'.'\u001b[0m\u001b[0;34m,\u001b[0m \u001b[0;36m1\u001b[0m\u001b[0;34m)\u001b[0m\u001b[0;34m\u001b[0m\u001b[0;34m\u001b[0m\u001b[0m\n\u001b[0m\u001b[1;32m    167\u001b[0m         \u001b[0;32mreturn\u001b[0m \u001b[0mgetattr\u001b[0m\u001b[0;34m(\u001b[0m\u001b[0mgetattr\u001b[0m\u001b[0;34m(\u001b[0m\u001b[0mself\u001b[0m\u001b[0;34m,\u001b[0m \u001b[0minterface\u001b[0m\u001b[0;34m)\u001b[0m\u001b[0;34m,\u001b[0m \u001b[0mmethod\u001b[0m\u001b[0;34m)\u001b[0m\u001b[0;34m(\u001b[0m\u001b[0;34m**\u001b[0m\u001b[0mkwargs\u001b[0m\u001b[0;34m)\u001b[0m\u001b[0;34m\u001b[0m\u001b[0;34m\u001b[0m\u001b[0m\n\u001b[1;32m    168\u001b[0m \u001b[0;34m\u001b[0m\u001b[0m\n",
      "\u001b[0;31mValueError\u001b[0m: not enough values to unpack (expected 2, got 1)"
     ]
    }
   ],
   "source": [
    "api.call('ISteamNews/GetNewsForApp/v2/?appid=440&count=3')"
   ]
  },
  {
   "cell_type": "code",
   "execution_count": null,
   "metadata": {},
   "outputs": [],
   "source": [
    "api.steampowered.com/ISteamUser/GetPlayerSummaries/v0002/?key=*apikey*&steamids=*SteamID*"
   ]
  },
  {
   "cell_type": "code",
   "execution_count": null,
   "metadata": {},
   "outputs": [],
   "source": [
    "https://api.steampowered.com/IDOTA2Match_570/GetLiveLeagueGames/v1/?"
   ]
  },
  {
   "cell_type": "code",
   "execution_count": null,
   "metadata": {},
   "outputs": [],
   "source": []
  },
  {
   "cell_type": "code",
   "execution_count": null,
   "metadata": {},
   "outputs": [],
   "source": []
  },
  {
   "cell_type": "code",
   "execution_count": null,
   "metadata": {},
   "outputs": [],
   "source": []
  },
  {
   "cell_type": "code",
   "execution_count": 61,
   "metadata": {},
   "outputs": [],
   "source": [
    "def get_request(url, parameters=None):\n",
    "    \"\"\"Return json-formatted response of a get request using optional parameters.\n",
    "    \n",
    "    Parameters\n",
    "    ----------\n",
    "    url : string\n",
    "    parameters : {'parameter': 'value'}\n",
    "        parameters to pass as part of get request\n",
    "    \n",
    "    Returns\n",
    "    -------\n",
    "    json_data\n",
    "        json-formatted response (dict-like)\n",
    "    \"\"\"\n",
    "    try:\n",
    "        response = requests.get(url=url, params=parameters)\n",
    "    except SSLError as s:\n",
    "        print('SSL Error:', s)\n",
    "        \n",
    "        for i in range(5, 0, -1):\n",
    "            print('\\rWaiting... ({})'.format(i), end='')\n",
    "            time.sleep(1)\n",
    "        print('\\rRetrying.' + ' '*10)\n",
    "        \n",
    "        # recusively try again\n",
    "        return get_request(url, parameters)\n",
    "    \n",
    "    if response:\n",
    "        return response.json()\n",
    "    else:\n",
    "        # response is none usually means too many requests. Wait and try again \n",
    "        print('No response, waiting 10 seconds...')\n",
    "        time.sleep(0.1)\n",
    "        print('Retrying.')\n",
    "        return get_request(url, parameters)"
   ]
  },
  {
   "cell_type": "code",
   "execution_count": 63,
   "metadata": {},
   "outputs": [],
   "source": [
    "url = \"https://steamspy.com/api.php\"\n",
    "parameters = {\"request\": \"all\"}\n",
    "\n",
    "json_data = get_request(url, parameters=parameters)\n",
    "steam_spy_all = pd.DataFrame.from_dict(json_data, orient='index')"
   ]
  },
  {
   "cell_type": "code",
   "execution_count": null,
   "metadata": {},
   "outputs": [],
   "source": [
    "url = \"https://api.steampowered.com/IDOTA2Match_570/GetMatchHistory/V001/?key=<key>\"\n",
    "parameters = {\"request\": \"all\"}\n",
    "\n",
    "json_data = get_request(url, parameters=parameters)\n",
    "steam_spy_all = pd.DataFrame.from_dict(json_data, orient='index')\n"
   ]
  },
  {
   "cell_type": "code",
   "execution_count": 72,
   "metadata": {},
   "outputs": [
    {
     "data": {
      "text/html": [
       "<div>\n",
       "<style scoped>\n",
       "    .dataframe tbody tr th:only-of-type {\n",
       "        vertical-align: middle;\n",
       "    }\n",
       "\n",
       "    .dataframe tbody tr th {\n",
       "        vertical-align: top;\n",
       "    }\n",
       "\n",
       "    .dataframe thead th {\n",
       "        text-align: right;\n",
       "    }\n",
       "</style>\n",
       "<table border=\"1\" class=\"dataframe\">\n",
       "  <thead>\n",
       "    <tr style=\"text-align: right;\">\n",
       "      <th></th>\n",
       "      <th>appid</th>\n",
       "      <th>name</th>\n",
       "      <th>developer</th>\n",
       "      <th>publisher</th>\n",
       "      <th>score_rank</th>\n",
       "      <th>positive</th>\n",
       "      <th>negative</th>\n",
       "      <th>userscore</th>\n",
       "      <th>owners</th>\n",
       "      <th>average_forever</th>\n",
       "      <th>average_2weeks</th>\n",
       "      <th>median_forever</th>\n",
       "      <th>median_2weeks</th>\n",
       "      <th>price</th>\n",
       "      <th>initialprice</th>\n",
       "      <th>discount</th>\n",
       "      <th>ccu</th>\n",
       "    </tr>\n",
       "  </thead>\n",
       "  <tbody>\n",
       "    <tr>\n",
       "      <th>390670</th>\n",
       "      <td>390670</td>\n",
       "      <td>Steel Ocean</td>\n",
       "      <td>ICE Entertainment</td>\n",
       "      <td>Changyou.com Limited</td>\n",
       "      <td></td>\n",
       "      <td>3111</td>\n",
       "      <td>1386</td>\n",
       "      <td>0</td>\n",
       "      <td>500,000 .. 1,000,000</td>\n",
       "      <td>434</td>\n",
       "      <td>0</td>\n",
       "      <td>101</td>\n",
       "      <td>0</td>\n",
       "      <td>0</td>\n",
       "      <td>0</td>\n",
       "      <td>0</td>\n",
       "      <td>0</td>\n",
       "    </tr>\n",
       "    <tr>\n",
       "      <th>447020</th>\n",
       "      <td>447020</td>\n",
       "      <td>Farming Simulator 17</td>\n",
       "      <td>GIANTS Software</td>\n",
       "      <td>GIANTS Software</td>\n",
       "      <td></td>\n",
       "      <td>18381</td>\n",
       "      <td>1322</td>\n",
       "      <td>0</td>\n",
       "      <td>500,000 .. 1,000,000</td>\n",
       "      <td>4057</td>\n",
       "      <td>0</td>\n",
       "      <td>2371</td>\n",
       "      <td>0</td>\n",
       "      <td>1499</td>\n",
       "      <td>1499</td>\n",
       "      <td>0</td>\n",
       "      <td>1314</td>\n",
       "    </tr>\n",
       "    <tr>\n",
       "      <th>107310</th>\n",
       "      <td>107310</td>\n",
       "      <td>Cthulhu Saves the World</td>\n",
       "      <td>Zeboyd Games</td>\n",
       "      <td>Zeboyd Games</td>\n",
       "      <td></td>\n",
       "      <td>3012</td>\n",
       "      <td>261</td>\n",
       "      <td>0</td>\n",
       "      <td>500,000 .. 1,000,000</td>\n",
       "      <td>226</td>\n",
       "      <td>0</td>\n",
       "      <td>164</td>\n",
       "      <td>0</td>\n",
       "      <td>299</td>\n",
       "      <td>299</td>\n",
       "      <td>0</td>\n",
       "      <td>3</td>\n",
       "    </tr>\n",
       "    <tr>\n",
       "      <th>323910</th>\n",
       "      <td>323910</td>\n",
       "      <td>SteamVR Performance Test</td>\n",
       "      <td>Valve</td>\n",
       "      <td>DNVR Prod</td>\n",
       "      <td></td>\n",
       "      <td>3617</td>\n",
       "      <td>1175</td>\n",
       "      <td>0</td>\n",
       "      <td>500,000 .. 1,000,000</td>\n",
       "      <td>0</td>\n",
       "      <td>0</td>\n",
       "      <td>0</td>\n",
       "      <td>0</td>\n",
       "      <td>0</td>\n",
       "      <td>0</td>\n",
       "      <td>0</td>\n",
       "      <td>30</td>\n",
       "    </tr>\n",
       "    <tr>\n",
       "      <th>244160</th>\n",
       "      <td>244160</td>\n",
       "      <td>Homeworld Remastered Collection</td>\n",
       "      <td>Gearbox Software</td>\n",
       "      <td>Gearbox Publishing</td>\n",
       "      <td></td>\n",
       "      <td>8602</td>\n",
       "      <td>1155</td>\n",
       "      <td>0</td>\n",
       "      <td>500,000 .. 1,000,000</td>\n",
       "      <td>684</td>\n",
       "      <td>0</td>\n",
       "      <td>387</td>\n",
       "      <td>0</td>\n",
       "      <td>3499</td>\n",
       "      <td>3499</td>\n",
       "      <td>0</td>\n",
       "      <td>200</td>\n",
       "    </tr>\n",
       "    <tr>\n",
       "      <th>...</th>\n",
       "      <td>...</td>\n",
       "      <td>...</td>\n",
       "      <td>...</td>\n",
       "      <td>...</td>\n",
       "      <td>...</td>\n",
       "      <td>...</td>\n",
       "      <td>...</td>\n",
       "      <td>...</td>\n",
       "      <td>...</td>\n",
       "      <td>...</td>\n",
       "      <td>...</td>\n",
       "      <td>...</td>\n",
       "      <td>...</td>\n",
       "      <td>...</td>\n",
       "      <td>...</td>\n",
       "      <td>...</td>\n",
       "      <td>...</td>\n",
       "    </tr>\n",
       "    <tr>\n",
       "      <th>444640</th>\n",
       "      <td>444640</td>\n",
       "      <td>Bloons TD Battles</td>\n",
       "      <td>Ninja Kiwi</td>\n",
       "      <td>Ninja Kiwi</td>\n",
       "      <td></td>\n",
       "      <td>20013</td>\n",
       "      <td>2314</td>\n",
       "      <td>0</td>\n",
       "      <td>1,000,000 .. 2,000,000</td>\n",
       "      <td>442</td>\n",
       "      <td>130</td>\n",
       "      <td>80</td>\n",
       "      <td>23</td>\n",
       "      <td>0</td>\n",
       "      <td>0</td>\n",
       "      <td>0</td>\n",
       "      <td>1715</td>\n",
       "    </tr>\n",
       "    <tr>\n",
       "      <th>241600</th>\n",
       "      <td>241600</td>\n",
       "      <td>Rogue Legacy</td>\n",
       "      <td>Cellar Door Games</td>\n",
       "      <td>Cellar Door Games</td>\n",
       "      <td></td>\n",
       "      <td>16001</td>\n",
       "      <td>1115</td>\n",
       "      <td>0</td>\n",
       "      <td>1,000,000 .. 2,000,000</td>\n",
       "      <td>820</td>\n",
       "      <td>2</td>\n",
       "      <td>582</td>\n",
       "      <td>2</td>\n",
       "      <td>1499</td>\n",
       "      <td>1499</td>\n",
       "      <td>0</td>\n",
       "      <td>77</td>\n",
       "    </tr>\n",
       "    <tr>\n",
       "      <th>368370</th>\n",
       "      <td>368370</td>\n",
       "      <td>Her Story</td>\n",
       "      <td>Sam Barlow</td>\n",
       "      <td>Sam Barlow</td>\n",
       "      <td></td>\n",
       "      <td>6804</td>\n",
       "      <td>783</td>\n",
       "      <td>0</td>\n",
       "      <td>1,000,000 .. 2,000,000</td>\n",
       "      <td>245</td>\n",
       "      <td>0</td>\n",
       "      <td>245</td>\n",
       "      <td>0</td>\n",
       "      <td>999</td>\n",
       "      <td>999</td>\n",
       "      <td>0</td>\n",
       "      <td>12</td>\n",
       "    </tr>\n",
       "    <tr>\n",
       "      <th>1151640</th>\n",
       "      <td>1151640</td>\n",
       "      <td>Horizon Zero Dawn Complete Edition</td>\n",
       "      <td>Guerrilla</td>\n",
       "      <td>PlayStation Mobile, Inc.</td>\n",
       "      <td></td>\n",
       "      <td>48535</td>\n",
       "      <td>9743</td>\n",
       "      <td>0</td>\n",
       "      <td>1,000,000 .. 2,000,000</td>\n",
       "      <td>1526</td>\n",
       "      <td>318</td>\n",
       "      <td>1117</td>\n",
       "      <td>493</td>\n",
       "      <td>4999</td>\n",
       "      <td>4999</td>\n",
       "      <td>0</td>\n",
       "      <td>5903</td>\n",
       "    </tr>\n",
       "    <tr>\n",
       "      <th>24780</th>\n",
       "      <td>24780</td>\n",
       "      <td>SimCity 4 Deluxe Edition</td>\n",
       "      <td>EA - Maxis, Aspyr (Mac)</td>\n",
       "      <td>Electronic Arts, Aspyr (Mac)</td>\n",
       "      <td></td>\n",
       "      <td>5172</td>\n",
       "      <td>1308</td>\n",
       "      <td>0</td>\n",
       "      <td>1,000,000 .. 2,000,000</td>\n",
       "      <td>775</td>\n",
       "      <td>0</td>\n",
       "      <td>134</td>\n",
       "      <td>0</td>\n",
       "      <td>1999</td>\n",
       "      <td>1999</td>\n",
       "      <td>0</td>\n",
       "      <td>437</td>\n",
       "    </tr>\n",
       "  </tbody>\n",
       "</table>\n",
       "<p>1000 rows × 17 columns</p>\n",
       "</div>"
      ],
      "text/plain": [
       "           appid                                name                developer  \\\n",
       "390670    390670                         Steel Ocean        ICE Entertainment   \n",
       "447020    447020                Farming Simulator 17          GIANTS Software   \n",
       "107310    107310             Cthulhu Saves the World             Zeboyd Games   \n",
       "323910    323910            SteamVR Performance Test                    Valve   \n",
       "244160    244160     Homeworld Remastered Collection         Gearbox Software   \n",
       "...          ...                                 ...                      ...   \n",
       "444640    444640                   Bloons TD Battles               Ninja Kiwi   \n",
       "241600    241600                        Rogue Legacy        Cellar Door Games   \n",
       "368370    368370                           Her Story               Sam Barlow   \n",
       "1151640  1151640  Horizon Zero Dawn Complete Edition                Guerrilla   \n",
       "24780      24780            SimCity 4 Deluxe Edition  EA - Maxis, Aspyr (Mac)   \n",
       "\n",
       "                            publisher score_rank  positive  negative  \\\n",
       "390670           Changyou.com Limited                 3111      1386   \n",
       "447020                GIANTS Software                18381      1322   \n",
       "107310                   Zeboyd Games                 3012       261   \n",
       "323910                      DNVR Prod                 3617      1175   \n",
       "244160             Gearbox Publishing                 8602      1155   \n",
       "...                               ...        ...       ...       ...   \n",
       "444640                     Ninja Kiwi                20013      2314   \n",
       "241600              Cellar Door Games                16001      1115   \n",
       "368370                     Sam Barlow                 6804       783   \n",
       "1151640      PlayStation Mobile, Inc.                48535      9743   \n",
       "24780    Electronic Arts, Aspyr (Mac)                 5172      1308   \n",
       "\n",
       "         userscore                  owners  average_forever  average_2weeks  \\\n",
       "390670           0    500,000 .. 1,000,000              434               0   \n",
       "447020           0    500,000 .. 1,000,000             4057               0   \n",
       "107310           0    500,000 .. 1,000,000              226               0   \n",
       "323910           0    500,000 .. 1,000,000                0               0   \n",
       "244160           0    500,000 .. 1,000,000              684               0   \n",
       "...            ...                     ...              ...             ...   \n",
       "444640           0  1,000,000 .. 2,000,000              442             130   \n",
       "241600           0  1,000,000 .. 2,000,000              820               2   \n",
       "368370           0  1,000,000 .. 2,000,000              245               0   \n",
       "1151640          0  1,000,000 .. 2,000,000             1526             318   \n",
       "24780            0  1,000,000 .. 2,000,000              775               0   \n",
       "\n",
       "         median_forever  median_2weeks price initialprice discount   ccu  \n",
       "390670              101              0     0            0        0     0  \n",
       "447020             2371              0  1499         1499        0  1314  \n",
       "107310              164              0   299          299        0     3  \n",
       "323910                0              0     0            0        0    30  \n",
       "244160              387              0  3499         3499        0   200  \n",
       "...                 ...            ...   ...          ...      ...   ...  \n",
       "444640               80             23     0            0        0  1715  \n",
       "241600              582              2  1499         1499        0    77  \n",
       "368370              245              0   999          999        0    12  \n",
       "1151640            1117            493  4999         4999        0  5903  \n",
       "24780               134              0  1999         1999        0   437  \n",
       "\n",
       "[1000 rows x 17 columns]"
      ]
     },
     "execution_count": 72,
     "metadata": {},
     "output_type": "execute_result"
    }
   ],
   "source": [
    "steam_spy_all.sort_values(by='owners', ascending=False)"
   ]
  },
  {
   "cell_type": "code",
   "execution_count": null,
   "metadata": {},
   "outputs": [],
   "source": []
  }
 ],
 "metadata": {
  "kernelspec": {
   "display_name": "Python 3",
   "language": "python",
   "name": "python3"
  },
  "language_info": {
   "codemirror_mode": {
    "name": "ipython",
    "version": 3
   },
   "file_extension": ".py",
   "mimetype": "text/x-python",
   "name": "python",
   "nbconvert_exporter": "python",
   "pygments_lexer": "ipython3",
   "version": "3.7.6"
  }
 },
 "nbformat": 4,
 "nbformat_minor": 4
}
