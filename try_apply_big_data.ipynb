{
 "cells": [
  {
   "cell_type": "code",
   "execution_count": 1,
   "metadata": {},
   "outputs": [],
   "source": [
    "import pandas as pd"
   ]
  },
  {
   "cell_type": "code",
   "execution_count": 2,
   "metadata": {},
   "outputs": [],
   "source": [
    "dfPlayers = pd.read_csv('./players.csv')"
   ]
  },
  {
   "cell_type": "code",
   "execution_count": 3,
   "metadata": {},
   "outputs": [],
   "source": [
    "dfGames = pd.read_csv('./games.csv')"
   ]
  },
  {
   "cell_type": "code",
   "execution_count": 7,
   "metadata": {},
   "outputs": [],
   "source": [
    "def fix_duration(duration):\n",
    "    newDuration = int(duration) / 60\n",
    "    return newDuration\n",
    "\n",
    "dfGames['duration_min'] = dfGames['duration'].apply(fix_duration)"
   ]
  },
  {
   "cell_type": "code",
   "execution_count": null,
   "metadata": {},
   "outputs": [],
   "source": []
  },
  {
   "cell_type": "code",
   "execution_count": 8,
   "metadata": {},
   "outputs": [
    {
     "data": {
      "text/html": [
       "<div>\n",
       "<style scoped>\n",
       "    .dataframe tbody tr th:only-of-type {\n",
       "        vertical-align: middle;\n",
       "    }\n",
       "\n",
       "    .dataframe tbody tr th {\n",
       "        vertical-align: top;\n",
       "    }\n",
       "\n",
       "    .dataframe thead th {\n",
       "        text-align: right;\n",
       "    }\n",
       "</style>\n",
       "<table border=\"1\" class=\"dataframe\">\n",
       "  <thead>\n",
       "    <tr style=\"text-align: right;\">\n",
       "      <th></th>\n",
       "      <th>Unnamed: 0</th>\n",
       "      <th>match_id</th>\n",
       "      <th>player_slot</th>\n",
       "      <th>radiant_win</th>\n",
       "      <th>duration</th>\n",
       "      <th>game_mode</th>\n",
       "      <th>lobby_type</th>\n",
       "      <th>hero_id</th>\n",
       "      <th>start_time</th>\n",
       "      <th>version</th>\n",
       "      <th>kills</th>\n",
       "      <th>deaths</th>\n",
       "      <th>assists</th>\n",
       "      <th>skill</th>\n",
       "      <th>leaver_status</th>\n",
       "      <th>party_size</th>\n",
       "      <th>player_id</th>\n",
       "      <th>duration_min</th>\n",
       "    </tr>\n",
       "  </thead>\n",
       "  <tbody>\n",
       "    <tr>\n",
       "      <th>0</th>\n",
       "      <td>0</td>\n",
       "      <td>6204438456</td>\n",
       "      <td>132</td>\n",
       "      <td>0.0</td>\n",
       "      <td>2612</td>\n",
       "      <td>3</td>\n",
       "      <td>7</td>\n",
       "      <td>129</td>\n",
       "      <td>2021-10-01 15:38:10</td>\n",
       "      <td>NaN</td>\n",
       "      <td>3</td>\n",
       "      <td>8</td>\n",
       "      <td>19</td>\n",
       "      <td>3.0</td>\n",
       "      <td>0</td>\n",
       "      <td>1.0</td>\n",
       "      <td>88470</td>\n",
       "      <td>43.533333</td>\n",
       "    </tr>\n",
       "    <tr>\n",
       "      <th>1</th>\n",
       "      <td>1</td>\n",
       "      <td>6204357792</td>\n",
       "      <td>2</td>\n",
       "      <td>0.0</td>\n",
       "      <td>2632</td>\n",
       "      <td>3</td>\n",
       "      <td>7</td>\n",
       "      <td>16</td>\n",
       "      <td>2021-10-01 14:46:53</td>\n",
       "      <td>NaN</td>\n",
       "      <td>5</td>\n",
       "      <td>8</td>\n",
       "      <td>17</td>\n",
       "      <td>3.0</td>\n",
       "      <td>0</td>\n",
       "      <td>1.0</td>\n",
       "      <td>88470</td>\n",
       "      <td>43.866667</td>\n",
       "    </tr>\n",
       "    <tr>\n",
       "      <th>2</th>\n",
       "      <td>2</td>\n",
       "      <td>6204290620</td>\n",
       "      <td>131</td>\n",
       "      <td>1.0</td>\n",
       "      <td>2182</td>\n",
       "      <td>3</td>\n",
       "      <td>7</td>\n",
       "      <td>55</td>\n",
       "      <td>2021-10-01 14:04:34</td>\n",
       "      <td>NaN</td>\n",
       "      <td>7</td>\n",
       "      <td>9</td>\n",
       "      <td>11</td>\n",
       "      <td>3.0</td>\n",
       "      <td>0</td>\n",
       "      <td>1.0</td>\n",
       "      <td>88470</td>\n",
       "      <td>36.366667</td>\n",
       "    </tr>\n",
       "    <tr>\n",
       "      <th>3</th>\n",
       "      <td>3</td>\n",
       "      <td>6204218571</td>\n",
       "      <td>2</td>\n",
       "      <td>0.0</td>\n",
       "      <td>2337</td>\n",
       "      <td>3</td>\n",
       "      <td>7</td>\n",
       "      <td>51</td>\n",
       "      <td>2021-10-01 13:17:18</td>\n",
       "      <td>NaN</td>\n",
       "      <td>7</td>\n",
       "      <td>10</td>\n",
       "      <td>7</td>\n",
       "      <td>3.0</td>\n",
       "      <td>0</td>\n",
       "      <td>1.0</td>\n",
       "      <td>88470</td>\n",
       "      <td>38.950000</td>\n",
       "    </tr>\n",
       "    <tr>\n",
       "      <th>4</th>\n",
       "      <td>4</td>\n",
       "      <td>6204152522</td>\n",
       "      <td>128</td>\n",
       "      <td>1.0</td>\n",
       "      <td>2440</td>\n",
       "      <td>3</td>\n",
       "      <td>7</td>\n",
       "      <td>65</td>\n",
       "      <td>2021-10-01 12:29:34</td>\n",
       "      <td>NaN</td>\n",
       "      <td>9</td>\n",
       "      <td>4</td>\n",
       "      <td>17</td>\n",
       "      <td>3.0</td>\n",
       "      <td>0</td>\n",
       "      <td>1.0</td>\n",
       "      <td>88470</td>\n",
       "      <td>40.666667</td>\n",
       "    </tr>\n",
       "  </tbody>\n",
       "</table>\n",
       "</div>"
      ],
      "text/plain": [
       "   Unnamed: 0    match_id  player_slot  radiant_win  duration  game_mode  \\\n",
       "0           0  6204438456          132          0.0      2612          3   \n",
       "1           1  6204357792            2          0.0      2632          3   \n",
       "2           2  6204290620          131          1.0      2182          3   \n",
       "3           3  6204218571            2          0.0      2337          3   \n",
       "4           4  6204152522          128          1.0      2440          3   \n",
       "\n",
       "   lobby_type  hero_id           start_time  version  kills  deaths  assists  \\\n",
       "0           7      129  2021-10-01 15:38:10      NaN      3       8       19   \n",
       "1           7       16  2021-10-01 14:46:53      NaN      5       8       17   \n",
       "2           7       55  2021-10-01 14:04:34      NaN      7       9       11   \n",
       "3           7       51  2021-10-01 13:17:18      NaN      7      10        7   \n",
       "4           7       65  2021-10-01 12:29:34      NaN      9       4       17   \n",
       "\n",
       "   skill  leaver_status  party_size  player_id  duration_min  \n",
       "0    3.0              0         1.0      88470     43.533333  \n",
       "1    3.0              0         1.0      88470     43.866667  \n",
       "2    3.0              0         1.0      88470     36.366667  \n",
       "3    3.0              0         1.0      88470     38.950000  \n",
       "4    3.0              0         1.0      88470     40.666667  "
      ]
     },
     "execution_count": 8,
     "metadata": {},
     "output_type": "execute_result"
    }
   ],
   "source": [
    "dfGames.head()"
   ]
  },
  {
   "cell_type": "code",
   "execution_count": 10,
   "metadata": {},
   "outputs": [
    {
     "data": {
      "text/plain": [
       "16316860"
      ]
     },
     "execution_count": 10,
     "metadata": {},
     "output_type": "execute_result"
    }
   ],
   "source": [
    "dfGames.loc[dfGames['duration_min'] > 8].shape[0]"
   ]
  },
  {
   "cell_type": "code",
   "execution_count": null,
   "metadata": {},
   "outputs": [],
   "source": []
  },
  {
   "cell_type": "code",
   "execution_count": 11,
   "metadata": {},
   "outputs": [
    {
     "data": {
      "text/plain": [
       "16356571"
      ]
     },
     "execution_count": 11,
     "metadata": {},
     "output_type": "execute_result"
    }
   ],
   "source": [
    "dfGames.shape[0]"
   ]
  }
 ],
 "metadata": {
  "kernelspec": {
   "display_name": "Python 3",
   "language": "python",
   "name": "python3"
  },
  "language_info": {
   "codemirror_mode": {
    "name": "ipython",
    "version": 3
   },
   "file_extension": ".py",
   "mimetype": "text/x-python",
   "name": "python",
   "nbconvert_exporter": "python",
   "pygments_lexer": "ipython3",
   "version": "3.7.6"
  }
 },
 "nbformat": 4,
 "nbformat_minor": 4
}
