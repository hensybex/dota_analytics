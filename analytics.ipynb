{
 "cells": [
  {
   "cell_type": "code",
   "execution_count": 1,
   "metadata": {},
   "outputs": [],
   "source": [
    "import pandas as pd"
   ]
  },
  {
   "cell_type": "code",
   "execution_count": 4,
   "metadata": {},
   "outputs": [],
   "source": [
    "df = pd.read_csv('./games_new_parsed.csv')"
   ]
  },
  {
   "cell_type": "code",
   "execution_count": 5,
   "metadata": {},
   "outputs": [
    {
     "data": {
      "text/html": [
       "<div>\n",
       "<style scoped>\n",
       "    .dataframe tbody tr th:only-of-type {\n",
       "        vertical-align: middle;\n",
       "    }\n",
       "\n",
       "    .dataframe tbody tr th {\n",
       "        vertical-align: top;\n",
       "    }\n",
       "\n",
       "    .dataframe thead th {\n",
       "        text-align: right;\n",
       "    }\n",
       "</style>\n",
       "<table border=\"1\" class=\"dataframe\">\n",
       "  <thead>\n",
       "    <tr style=\"text-align: right;\">\n",
       "      <th></th>\n",
       "      <th>match_id</th>\n",
       "      <th>start_time</th>\n",
       "      <th>league_id</th>\n",
       "      <th>radiant_win</th>\n",
       "      <th>duration</th>\n",
       "      <th>player_0</th>\n",
       "      <th>player_1</th>\n",
       "      <th>player_2</th>\n",
       "      <th>player_3</th>\n",
       "      <th>player_4</th>\n",
       "      <th>...</th>\n",
       "      <th>player_0_real_pos</th>\n",
       "      <th>player_1_real_pos</th>\n",
       "      <th>player_2_real_pos</th>\n",
       "      <th>player_3_real_pos</th>\n",
       "      <th>player_4_real_pos</th>\n",
       "      <th>player_5_real_pos</th>\n",
       "      <th>player_6_real_pos</th>\n",
       "      <th>player_7_real_pos</th>\n",
       "      <th>player_8_real_pos</th>\n",
       "      <th>player_9_real_pos</th>\n",
       "    </tr>\n",
       "  </thead>\n",
       "  <tbody>\n",
       "    <tr>\n",
       "      <th>0</th>\n",
       "      <td>5713385142</td>\n",
       "      <td>2020-11-23 14:25:57</td>\n",
       "      <td>12528</td>\n",
       "      <td>True</td>\n",
       "      <td>2470</td>\n",
       "      <td>{\"account_id\": 138857296, \"player_slot\": 0, \"n...</td>\n",
       "      <td>{\"account_id\": 139876032, \"player_slot\": 1, \"n...</td>\n",
       "      <td>{\"account_id\": 202217968, \"player_slot\": 2, \"n...</td>\n",
       "      <td>{\"account_id\": 199222238, \"player_slot\": 3, \"n...</td>\n",
       "      <td>{\"account_id\": 101259972, \"player_slot\": 4, \"n...</td>\n",
       "      <td>...</td>\n",
       "      <td>3.0</td>\n",
       "      <td>4.0</td>\n",
       "      <td>2.0</td>\n",
       "      <td>2.0</td>\n",
       "      <td>5.0</td>\n",
       "      <td>1.0</td>\n",
       "      <td>4.0</td>\n",
       "      <td>5.0</td>\n",
       "      <td>2.0</td>\n",
       "      <td>3.0</td>\n",
       "    </tr>\n",
       "    <tr>\n",
       "      <th>1</th>\n",
       "      <td>5713211230</td>\n",
       "      <td>2020-11-23 12:20:45</td>\n",
       "      <td>12528</td>\n",
       "      <td>False</td>\n",
       "      <td>1988</td>\n",
       "      <td>{\"account_id\": 138857296, \"player_slot\": 0, \"n...</td>\n",
       "      <td>{\"account_id\": 199222238, \"player_slot\": 1, \"n...</td>\n",
       "      <td>{\"account_id\": 139876032, \"player_slot\": 2, \"n...</td>\n",
       "      <td>{\"account_id\": 202217968, \"player_slot\": 3, \"n...</td>\n",
       "      <td>{\"account_id\": 101259972, \"player_slot\": 4, \"n...</td>\n",
       "      <td>...</td>\n",
       "      <td>3.0</td>\n",
       "      <td>2.0</td>\n",
       "      <td>4.0</td>\n",
       "      <td>2.0</td>\n",
       "      <td>5.0</td>\n",
       "      <td>1.0</td>\n",
       "      <td>5.0</td>\n",
       "      <td>3.0</td>\n",
       "      <td>4.0</td>\n",
       "      <td>2.0</td>\n",
       "    </tr>\n",
       "    <tr>\n",
       "      <th>2</th>\n",
       "      <td>5668306545</td>\n",
       "      <td>2020-10-23 09:43:43</td>\n",
       "      <td>12528</td>\n",
       "      <td>False</td>\n",
       "      <td>2504</td>\n",
       "      <td>{\"account_id\": 138857296, \"player_slot\": 0, \"n...</td>\n",
       "      <td>{\"account_id\": 137895298, \"player_slot\": 1, \"n...</td>\n",
       "      <td>{\"account_id\": 364481959, \"player_slot\": 2, \"n...</td>\n",
       "      <td>{\"account_id\": 199222238, \"player_slot\": 3, \"n...</td>\n",
       "      <td>{\"account_id\": 101259972, \"player_slot\": 4, \"n...</td>\n",
       "      <td>...</td>\n",
       "      <td>3.0</td>\n",
       "      <td>1.0</td>\n",
       "      <td>1.0</td>\n",
       "      <td>2.0</td>\n",
       "      <td>5.0</td>\n",
       "      <td>1.0</td>\n",
       "      <td>3.0</td>\n",
       "      <td>4.0</td>\n",
       "      <td>4.0</td>\n",
       "      <td>2.0</td>\n",
       "    </tr>\n",
       "    <tr>\n",
       "      <th>3</th>\n",
       "      <td>5710103743</td>\n",
       "      <td>2020-11-21 10:32:18</td>\n",
       "      <td>12528</td>\n",
       "      <td>False</td>\n",
       "      <td>1810</td>\n",
       "      <td>{\"account_id\": 138857296, \"player_slot\": 0, \"n...</td>\n",
       "      <td>{\"account_id\": 202217968, \"player_slot\": 1, \"n...</td>\n",
       "      <td>{\"account_id\": 199222238, \"player_slot\": 2, \"n...</td>\n",
       "      <td>{\"account_id\": 139876032, \"player_slot\": 3, \"n...</td>\n",
       "      <td>{\"account_id\": 101259972, \"player_slot\": 4, \"n...</td>\n",
       "      <td>...</td>\n",
       "      <td>3.0</td>\n",
       "      <td>2.0</td>\n",
       "      <td>2.0</td>\n",
       "      <td>4.0</td>\n",
       "      <td>5.0</td>\n",
       "      <td>1.0</td>\n",
       "      <td>5.0</td>\n",
       "      <td>3.0</td>\n",
       "      <td>4.0</td>\n",
       "      <td>2.0</td>\n",
       "    </tr>\n",
       "    <tr>\n",
       "      <th>4</th>\n",
       "      <td>5668258744</td>\n",
       "      <td>2020-10-23 08:51:47</td>\n",
       "      <td>12528</td>\n",
       "      <td>False</td>\n",
       "      <td>1942</td>\n",
       "      <td>{\"account_id\": 148215639, \"player_slot\": 0, \"n...</td>\n",
       "      <td>{\"account_id\": 129958758, \"player_slot\": 1, \"n...</td>\n",
       "      <td>{\"account_id\": 207829314, \"player_slot\": 2, \"n...</td>\n",
       "      <td>{\"account_id\": 373520478, \"player_slot\": 3, \"n...</td>\n",
       "      <td>{\"account_id\": 90031225, \"player_slot\": 4, \"ne...</td>\n",
       "      <td>...</td>\n",
       "      <td>1.0</td>\n",
       "      <td>3.0</td>\n",
       "      <td>4.0</td>\n",
       "      <td>2.0</td>\n",
       "      <td>4.0</td>\n",
       "      <td>3.0</td>\n",
       "      <td>1.0</td>\n",
       "      <td>1.0</td>\n",
       "      <td>2.0</td>\n",
       "      <td>5.0</td>\n",
       "    </tr>\n",
       "    <tr>\n",
       "      <th>...</th>\n",
       "      <td>...</td>\n",
       "      <td>...</td>\n",
       "      <td>...</td>\n",
       "      <td>...</td>\n",
       "      <td>...</td>\n",
       "      <td>...</td>\n",
       "      <td>...</td>\n",
       "      <td>...</td>\n",
       "      <td>...</td>\n",
       "      <td>...</td>\n",
       "      <td>...</td>\n",
       "      <td>...</td>\n",
       "      <td>...</td>\n",
       "      <td>...</td>\n",
       "      <td>...</td>\n",
       "      <td>...</td>\n",
       "      <td>...</td>\n",
       "      <td>...</td>\n",
       "      <td>...</td>\n",
       "      <td>...</td>\n",
       "      <td>...</td>\n",
       "    </tr>\n",
       "    <tr>\n",
       "      <th>41696</th>\n",
       "      <td>4621277332</td>\n",
       "      <td>2019-04-06 18:59:52</td>\n",
       "      <td>10875</td>\n",
       "      <td>False</td>\n",
       "      <td>2719</td>\n",
       "      <td>{\"account_id\": 86726887, \"player_slot\": 0, \"ne...</td>\n",
       "      <td>{\"account_id\": 108452107, \"player_slot\": 1, \"n...</td>\n",
       "      <td>{\"account_id\": 10366616, \"player_slot\": 2, \"ne...</td>\n",
       "      <td>{\"account_id\": 221666230, \"player_slot\": 3, \"n...</td>\n",
       "      <td>{\"account_id\": 187824320, \"player_slot\": 4, \"n...</td>\n",
       "      <td>...</td>\n",
       "      <td>4.0</td>\n",
       "      <td>1.0</td>\n",
       "      <td>4.0</td>\n",
       "      <td>2.0</td>\n",
       "      <td>5.0</td>\n",
       "      <td>5.0</td>\n",
       "      <td>2.0</td>\n",
       "      <td>4.0</td>\n",
       "      <td>1.0</td>\n",
       "      <td>3.0</td>\n",
       "    </tr>\n",
       "    <tr>\n",
       "      <th>41697</th>\n",
       "      <td>4621277523</td>\n",
       "      <td>2019-04-06 18:59:56</td>\n",
       "      <td>10875</td>\n",
       "      <td>True</td>\n",
       "      <td>1824</td>\n",
       "      <td>{\"account_id\": 86822085, \"player_slot\": 0, \"ne...</td>\n",
       "      <td>{\"account_id\": 118207269, \"player_slot\": 1, \"n...</td>\n",
       "      <td>{\"account_id\": 85312703, \"player_slot\": 2, \"ne...</td>\n",
       "      <td>{\"account_id\": 176502766, \"player_slot\": 3, \"n...</td>\n",
       "      <td>{\"account_id\": 85008179, \"player_slot\": 4, \"ne...</td>\n",
       "      <td>...</td>\n",
       "      <td>1.0</td>\n",
       "      <td>3.0</td>\n",
       "      <td>4.0</td>\n",
       "      <td>4.0</td>\n",
       "      <td>5.0</td>\n",
       "      <td>3.0</td>\n",
       "      <td>1.0</td>\n",
       "      <td>4.0</td>\n",
       "      <td>4.0</td>\n",
       "      <td>1.0</td>\n",
       "    </tr>\n",
       "    <tr>\n",
       "      <th>41698</th>\n",
       "      <td>4621546749</td>\n",
       "      <td>2019-04-06 20:58:45</td>\n",
       "      <td>10875</td>\n",
       "      <td>False</td>\n",
       "      <td>1033</td>\n",
       "      <td>{\"account_id\": 28070572, \"player_slot\": 0, \"ne...</td>\n",
       "      <td>{\"account_id\": 100058342, \"player_slot\": 1, \"n...</td>\n",
       "      <td>{\"account_id\": 349310876, \"player_slot\": 2, \"n...</td>\n",
       "      <td>{\"account_id\": 109512357, \"player_slot\": 3, \"n...</td>\n",
       "      <td>{\"account_id\": 97658618, \"player_slot\": 4, \"ne...</td>\n",
       "      <td>...</td>\n",
       "      <td>3.0</td>\n",
       "      <td>1.0</td>\n",
       "      <td>4.0</td>\n",
       "      <td>4.0</td>\n",
       "      <td>1.0</td>\n",
       "      <td>4.0</td>\n",
       "      <td>2.0</td>\n",
       "      <td>4.0</td>\n",
       "      <td>1.0</td>\n",
       "      <td>5.0</td>\n",
       "    </tr>\n",
       "    <tr>\n",
       "      <th>41699</th>\n",
       "      <td>4621450845</td>\n",
       "      <td>2019-04-06 20:12:40</td>\n",
       "      <td>10875</td>\n",
       "      <td>False</td>\n",
       "      <td>1206</td>\n",
       "      <td>{\"account_id\": 86822085, \"player_slot\": 0, \"ne...</td>\n",
       "      <td>{\"account_id\": 118207269, \"player_slot\": 1, \"n...</td>\n",
       "      <td>{\"account_id\": 85312703, \"player_slot\": 2, \"ne...</td>\n",
       "      <td>{\"account_id\": 176502766, \"player_slot\": 3, \"n...</td>\n",
       "      <td>{\"account_id\": 85008179, \"player_slot\": 4, \"ne...</td>\n",
       "      <td>...</td>\n",
       "      <td>1.0</td>\n",
       "      <td>3.0</td>\n",
       "      <td>4.0</td>\n",
       "      <td>4.0</td>\n",
       "      <td>5.0</td>\n",
       "      <td>2.0</td>\n",
       "      <td>4.0</td>\n",
       "      <td>4.0</td>\n",
       "      <td>1.0</td>\n",
       "      <td>5.0</td>\n",
       "    </tr>\n",
       "    <tr>\n",
       "      <th>41700</th>\n",
       "      <td>4621444038</td>\n",
       "      <td>2019-04-06 20:09:56</td>\n",
       "      <td>10875</td>\n",
       "      <td>False</td>\n",
       "      <td>1262</td>\n",
       "      <td>{\"account_id\": 28070572, \"player_slot\": 0, \"ne...</td>\n",
       "      <td>{\"account_id\": 100058342, \"player_slot\": 1, \"n...</td>\n",
       "      <td>{\"account_id\": 349310876, \"player_slot\": 2, \"n...</td>\n",
       "      <td>{\"account_id\": 109512357, \"player_slot\": 3, \"n...</td>\n",
       "      <td>{\"account_id\": 97658618, \"player_slot\": 4, \"ne...</td>\n",
       "      <td>...</td>\n",
       "      <td>3.0</td>\n",
       "      <td>1.0</td>\n",
       "      <td>4.0</td>\n",
       "      <td>4.0</td>\n",
       "      <td>1.0</td>\n",
       "      <td>5.0</td>\n",
       "      <td>2.0</td>\n",
       "      <td>4.0</td>\n",
       "      <td>1.0</td>\n",
       "      <td>3.0</td>\n",
       "    </tr>\n",
       "  </tbody>\n",
       "</table>\n",
       "<p>41701 rows × 55 columns</p>\n",
       "</div>"
      ],
      "text/plain": [
       "         match_id           start_time  league_id  radiant_win  duration  \\\n",
       "0      5713385142  2020-11-23 14:25:57      12528         True      2470   \n",
       "1      5713211230  2020-11-23 12:20:45      12528        False      1988   \n",
       "2      5668306545  2020-10-23 09:43:43      12528        False      2504   \n",
       "3      5710103743  2020-11-21 10:32:18      12528        False      1810   \n",
       "4      5668258744  2020-10-23 08:51:47      12528        False      1942   \n",
       "...           ...                  ...        ...          ...       ...   \n",
       "41696  4621277332  2019-04-06 18:59:52      10875        False      2719   \n",
       "41697  4621277523  2019-04-06 18:59:56      10875         True      1824   \n",
       "41698  4621546749  2019-04-06 20:58:45      10875        False      1033   \n",
       "41699  4621450845  2019-04-06 20:12:40      10875        False      1206   \n",
       "41700  4621444038  2019-04-06 20:09:56      10875        False      1262   \n",
       "\n",
       "                                                player_0  \\\n",
       "0      {\"account_id\": 138857296, \"player_slot\": 0, \"n...   \n",
       "1      {\"account_id\": 138857296, \"player_slot\": 0, \"n...   \n",
       "2      {\"account_id\": 138857296, \"player_slot\": 0, \"n...   \n",
       "3      {\"account_id\": 138857296, \"player_slot\": 0, \"n...   \n",
       "4      {\"account_id\": 148215639, \"player_slot\": 0, \"n...   \n",
       "...                                                  ...   \n",
       "41696  {\"account_id\": 86726887, \"player_slot\": 0, \"ne...   \n",
       "41697  {\"account_id\": 86822085, \"player_slot\": 0, \"ne...   \n",
       "41698  {\"account_id\": 28070572, \"player_slot\": 0, \"ne...   \n",
       "41699  {\"account_id\": 86822085, \"player_slot\": 0, \"ne...   \n",
       "41700  {\"account_id\": 28070572, \"player_slot\": 0, \"ne...   \n",
       "\n",
       "                                                player_1  \\\n",
       "0      {\"account_id\": 139876032, \"player_slot\": 1, \"n...   \n",
       "1      {\"account_id\": 199222238, \"player_slot\": 1, \"n...   \n",
       "2      {\"account_id\": 137895298, \"player_slot\": 1, \"n...   \n",
       "3      {\"account_id\": 202217968, \"player_slot\": 1, \"n...   \n",
       "4      {\"account_id\": 129958758, \"player_slot\": 1, \"n...   \n",
       "...                                                  ...   \n",
       "41696  {\"account_id\": 108452107, \"player_slot\": 1, \"n...   \n",
       "41697  {\"account_id\": 118207269, \"player_slot\": 1, \"n...   \n",
       "41698  {\"account_id\": 100058342, \"player_slot\": 1, \"n...   \n",
       "41699  {\"account_id\": 118207269, \"player_slot\": 1, \"n...   \n",
       "41700  {\"account_id\": 100058342, \"player_slot\": 1, \"n...   \n",
       "\n",
       "                                                player_2  \\\n",
       "0      {\"account_id\": 202217968, \"player_slot\": 2, \"n...   \n",
       "1      {\"account_id\": 139876032, \"player_slot\": 2, \"n...   \n",
       "2      {\"account_id\": 364481959, \"player_slot\": 2, \"n...   \n",
       "3      {\"account_id\": 199222238, \"player_slot\": 2, \"n...   \n",
       "4      {\"account_id\": 207829314, \"player_slot\": 2, \"n...   \n",
       "...                                                  ...   \n",
       "41696  {\"account_id\": 10366616, \"player_slot\": 2, \"ne...   \n",
       "41697  {\"account_id\": 85312703, \"player_slot\": 2, \"ne...   \n",
       "41698  {\"account_id\": 349310876, \"player_slot\": 2, \"n...   \n",
       "41699  {\"account_id\": 85312703, \"player_slot\": 2, \"ne...   \n",
       "41700  {\"account_id\": 349310876, \"player_slot\": 2, \"n...   \n",
       "\n",
       "                                                player_3  \\\n",
       "0      {\"account_id\": 199222238, \"player_slot\": 3, \"n...   \n",
       "1      {\"account_id\": 202217968, \"player_slot\": 3, \"n...   \n",
       "2      {\"account_id\": 199222238, \"player_slot\": 3, \"n...   \n",
       "3      {\"account_id\": 139876032, \"player_slot\": 3, \"n...   \n",
       "4      {\"account_id\": 373520478, \"player_slot\": 3, \"n...   \n",
       "...                                                  ...   \n",
       "41696  {\"account_id\": 221666230, \"player_slot\": 3, \"n...   \n",
       "41697  {\"account_id\": 176502766, \"player_slot\": 3, \"n...   \n",
       "41698  {\"account_id\": 109512357, \"player_slot\": 3, \"n...   \n",
       "41699  {\"account_id\": 176502766, \"player_slot\": 3, \"n...   \n",
       "41700  {\"account_id\": 109512357, \"player_slot\": 3, \"n...   \n",
       "\n",
       "                                                player_4  ...  \\\n",
       "0      {\"account_id\": 101259972, \"player_slot\": 4, \"n...  ...   \n",
       "1      {\"account_id\": 101259972, \"player_slot\": 4, \"n...  ...   \n",
       "2      {\"account_id\": 101259972, \"player_slot\": 4, \"n...  ...   \n",
       "3      {\"account_id\": 101259972, \"player_slot\": 4, \"n...  ...   \n",
       "4      {\"account_id\": 90031225, \"player_slot\": 4, \"ne...  ...   \n",
       "...                                                  ...  ...   \n",
       "41696  {\"account_id\": 187824320, \"player_slot\": 4, \"n...  ...   \n",
       "41697  {\"account_id\": 85008179, \"player_slot\": 4, \"ne...  ...   \n",
       "41698  {\"account_id\": 97658618, \"player_slot\": 4, \"ne...  ...   \n",
       "41699  {\"account_id\": 85008179, \"player_slot\": 4, \"ne...  ...   \n",
       "41700  {\"account_id\": 97658618, \"player_slot\": 4, \"ne...  ...   \n",
       "\n",
       "      player_0_real_pos player_1_real_pos player_2_real_pos player_3_real_pos  \\\n",
       "0                   3.0               4.0               2.0               2.0   \n",
       "1                   3.0               2.0               4.0               2.0   \n",
       "2                   3.0               1.0               1.0               2.0   \n",
       "3                   3.0               2.0               2.0               4.0   \n",
       "4                   1.0               3.0               4.0               2.0   \n",
       "...                 ...               ...               ...               ...   \n",
       "41696               4.0               1.0               4.0               2.0   \n",
       "41697               1.0               3.0               4.0               4.0   \n",
       "41698               3.0               1.0               4.0               4.0   \n",
       "41699               1.0               3.0               4.0               4.0   \n",
       "41700               3.0               1.0               4.0               4.0   \n",
       "\n",
       "      player_4_real_pos  player_5_real_pos  player_6_real_pos  \\\n",
       "0                   5.0                1.0                4.0   \n",
       "1                   5.0                1.0                5.0   \n",
       "2                   5.0                1.0                3.0   \n",
       "3                   5.0                1.0                5.0   \n",
       "4                   4.0                3.0                1.0   \n",
       "...                 ...                ...                ...   \n",
       "41696               5.0                5.0                2.0   \n",
       "41697               5.0                3.0                1.0   \n",
       "41698               1.0                4.0                2.0   \n",
       "41699               5.0                2.0                4.0   \n",
       "41700               1.0                5.0                2.0   \n",
       "\n",
       "       player_7_real_pos  player_8_real_pos  player_9_real_pos  \n",
       "0                    5.0                2.0                3.0  \n",
       "1                    3.0                4.0                2.0  \n",
       "2                    4.0                4.0                2.0  \n",
       "3                    3.0                4.0                2.0  \n",
       "4                    1.0                2.0                5.0  \n",
       "...                  ...                ...                ...  \n",
       "41696                4.0                1.0                3.0  \n",
       "41697                4.0                4.0                1.0  \n",
       "41698                4.0                1.0                5.0  \n",
       "41699                4.0                1.0                5.0  \n",
       "41700                4.0                1.0                3.0  \n",
       "\n",
       "[41701 rows x 55 columns]"
      ]
     },
     "execution_count": 5,
     "metadata": {},
     "output_type": "execute_result"
    }
   ],
   "source": [
    "df"
   ]
  },
  {
   "cell_type": "code",
   "execution_count": 6,
   "metadata": {},
   "outputs": [
    {
     "data": {
      "text/plain": [
       "Index(['match_id', 'start_time', 'league_id', 'radiant_win', 'duration',\n",
       "       'player_0', 'player_1', 'player_2', 'player_3', 'player_4', 'player_5',\n",
       "       'player_6', 'player_7', 'player_8', 'player_9', 'player_0_net_worth',\n",
       "       'player_1_net_worth', 'player_2_net_worth', 'player_3_net_worth',\n",
       "       'player_4_net_worth', 'player_5_net_worth', 'player_6_net_worth',\n",
       "       'player_7_net_worth', 'player_8_net_worth', 'player_9_net_worth',\n",
       "       'player_0_supposed_pos', 'player_1_supposed_pos',\n",
       "       'player_2_supposed_pos', 'player_3_supposed_pos',\n",
       "       'player_4_supposed_pos', 'player_5_supposed_pos',\n",
       "       'player_6_supposed_pos', 'player_7_supposed_pos',\n",
       "       'player_8_supposed_pos', 'player_9_supposed_pos', 'player_0_id',\n",
       "       'player_1_id', 'player_2_id', 'player_3_id', 'player_4_id',\n",
       "       'player_5_id', 'player_6_id', 'player_7_id', 'player_8_id',\n",
       "       'player_9_id', 'player_0_real_pos', 'player_1_real_pos',\n",
       "       'player_2_real_pos', 'player_3_real_pos', 'player_4_real_pos',\n",
       "       'player_5_real_pos', 'player_6_real_pos', 'player_7_real_pos',\n",
       "       'player_8_real_pos', 'player_9_real_pos'],\n",
       "      dtype='object')"
      ]
     },
     "execution_count": 6,
     "metadata": {},
     "output_type": "execute_result"
    }
   ],
   "source": [
    "df.columns"
   ]
  },
  {
   "cell_type": "code",
   "execution_count": 7,
   "metadata": {},
   "outputs": [],
   "source": [
    "def get_percentage_0(row):\n",
    "    sumNW = row['player_0_net_worth'] + row['player_1_net_worth'] + row['player_2_net_worth'] + row['player_3_net_worth'] + row['player_4_net_worth']\n",
    "    return row['player_0_net_worth'] / sumNW\n",
    "\n",
    "def get_percentage_1(row):\n",
    "    sumNW = row['player_0_net_worth'] + row['player_1_net_worth'] + row['player_2_net_worth'] + row['player_3_net_worth'] + row['player_4_net_worth']\n",
    "    return row['player_1_net_worth'] / sumNW\n",
    "\n",
    "def get_percentage_2(row):\n",
    "    sumNW = row['player_0_net_worth'] + row['player_1_net_worth'] + row['player_2_net_worth'] + row['player_3_net_worth'] + row['player_4_net_worth']\n",
    "    return row['player_2_net_worth'] / sumNW\n",
    "\n",
    "def get_percentage_3(row):\n",
    "    sumNW = row['player_0_net_worth'] + row['player_1_net_worth'] + row['player_2_net_worth'] + row['player_3_net_worth'] + row['player_4_net_worth']\n",
    "    return row['player_3_net_worth'] / sumNW\n",
    "\n",
    "def get_percentage_4(row):\n",
    "    sumNW = row['player_0_net_worth'] + row['player_1_net_worth'] + row['player_2_net_worth'] + row['player_3_net_worth'] + row['player_4_net_worth']\n",
    "    return row['player_4_net_worth'] / sumNW\n",
    "\n",
    "def get_percentage_5(row):\n",
    "    sumNW = row['player_5_net_worth'] + row['player_6_net_worth'] + row['player_7_net_worth'] + row['player_8_net_worth'] + row['player_9_net_worth']\n",
    "    return row['player_5_net_worth'] / sumNW\n",
    "\n",
    "def get_percentage_6(row):\n",
    "    sumNW = row['player_5_net_worth'] + row['player_6_net_worth'] + row['player_7_net_worth'] + row['player_8_net_worth'] + row['player_9_net_worth']\n",
    "    return row['player_6_net_worth'] / sumNW\n",
    "\n",
    "def get_percentage_7(row):\n",
    "    sumNW = row['player_5_net_worth'] + row['player_6_net_worth'] + row['player_7_net_worth'] + row['player_8_net_worth'] + row['player_9_net_worth']\n",
    "    return row['player_7_net_worth'] / sumNW\n",
    "\n",
    "def get_percentage_8(row):\n",
    "    sumNW = row['player_5_net_worth'] + row['player_6_net_worth'] + row['player_7_net_worth'] + row['player_8_net_worth'] + row['player_9_net_worth']\n",
    "    return row['player_8_net_worth'] / sumNW\n",
    "\n",
    "def get_percentage_9(row):\n",
    "    sumNW = row['player_5_net_worth'] + row['player_6_net_worth'] + row['player_7_net_worth'] + row['player_8_net_worth'] + row['player_9_net_worth']\n",
    "    return row['player_9_net_worth'] / sumNW\n",
    "\n"
   ]
  },
  {
   "cell_type": "code",
   "execution_count": 10,
   "metadata": {},
   "outputs": [],
   "source": [
    "df['sum_team_1_net_worth'] = df['player_0_net_worth'] + df['player_1_net_worth'] + df['player_2_net_worth'] + df['player_3_net_worth'] + df['player_4_net_worth']\n",
    "df['sum_team_2_net_worth'] = df['player_5_net_worth'] + df['player_6_net_worth'] + df['player_7_net_worth'] + df['player_8_net_worth'] + df['player_9_net_worth']"
   ]
  },
  {
   "cell_type": "code",
   "execution_count": 13,
   "metadata": {},
   "outputs": [],
   "source": [
    "df['player_0_percentage_net_worth'] = df['player_0_net_worth'] / df['sum_team_1_net_worth'] * 100\n",
    "df['player_1_percentage_net_worth'] = df['player_1_net_worth'] / df['sum_team_1_net_worth'] * 100\n",
    "df['player_2_percentage_net_worth'] = df['player_2_net_worth'] / df['sum_team_1_net_worth'] * 100\n",
    "df['player_3_percentage_net_worth'] = df['player_3_net_worth'] / df['sum_team_1_net_worth'] * 100\n",
    "df['player_4_percentage_net_worth'] = df['player_4_net_worth'] / df['sum_team_1_net_worth'] * 100\n",
    "df['player_5_percentage_net_worth'] = df['player_5_net_worth'] / df['sum_team_2_net_worth'] * 100\n",
    "df['player_6_percentage_net_worth'] = df['player_6_net_worth'] / df['sum_team_2_net_worth'] * 100\n",
    "df['player_7_percentage_net_worth'] = df['player_7_net_worth'] / df['sum_team_2_net_worth'] * 100\n",
    "df['player_8_percentage_net_worth'] = df['player_8_net_worth'] / df['sum_team_2_net_worth'] * 100\n",
    "df['player_9_percentage_net_worth'] = df['player_9_net_worth'] / df['sum_team_2_net_worth'] * 100"
   ]
  },
  {
   "cell_type": "code",
   "execution_count": 16,
   "metadata": {},
   "outputs": [],
   "source": [
    "import numpy as np"
   ]
  },
  {
   "cell_type": "code",
   "execution_count": 114,
   "metadata": {},
   "outputs": [],
   "source": [
    "arr_pos_1 = np.zeros(100)\n",
    "arr_pos_1_wins = np.zeros(100)\n",
    "arr_pos_2 = np.zeros(100)\n",
    "arr_pos_2_wins = np.zeros(100)\n",
    "arr_pos_3 = np.zeros(100)\n",
    "arr_pos_3_wins = np.zeros(100)\n",
    "arr_pos_4 = np.zeros(100)\n",
    "arr_pos_4_wins = np.zeros(100)\n",
    "arr_pos_5 = np.zeros(100)\n",
    "arr_pos_5_wins = np.zeros(100)"
   ]
  },
  {
   "cell_type": "code",
   "execution_count": 115,
   "metadata": {},
   "outputs": [
    {
     "name": "stdout",
     "output_type": "stream",
     "text": [
      "1000\n",
      "2000\n",
      "3000\n",
      "4000\n",
      "5000\n",
      "6000\n",
      "7000\n",
      "8000\n",
      "9000\n",
      "10000\n",
      "11000\n",
      "12000\n",
      "13000\n",
      "14000\n",
      "15000\n",
      "16000\n",
      "17000\n",
      "18000\n",
      "19000\n",
      "20000\n",
      "21000\n",
      "22000\n",
      "23000\n",
      "24000\n",
      "25000\n",
      "26000\n",
      "27000\n",
      "28000\n",
      "29000\n",
      "30000\n",
      "31000\n",
      "32000\n",
      "33000\n",
      "34000\n",
      "35000\n",
      "36000\n",
      "37000\n",
      "38000\n",
      "39000\n",
      "40000\n",
      "41000\n"
     ]
    }
   ],
   "source": [
    "j = 0\n",
    "for index, row in df.iterrows():\n",
    "    for i in range(0, 5):\n",
    "        string1 = 'player_' + str(i) + '_percentage_net_worth'\n",
    "        nw_pc = row[string1]        \n",
    "        string = 'player_' + str(i) + '_real_pos'\n",
    "        if row[string] == 1:\n",
    "            arr_pos_1[int(nw_pc)] += 1\n",
    "            if row['radiant_win'] == True:\n",
    "                arr_pos_1_wins[int(nw_pc)] += 1\n",
    "        elif row[string] == 2:\n",
    "            arr_pos_2[int(nw_pc)] += 1\n",
    "            if row['radiant_win'] == True:\n",
    "                arr_pos_2_wins[int(nw_pc)] += 1\n",
    "        elif row[string] == 3:\n",
    "            arr_pos_3[int(nw_pc)] += 1\n",
    "            if row['radiant_win'] == True:\n",
    "                arr_pos_3_wins[int(nw_pc)] += 1\n",
    "        elif row[string] == 4:\n",
    "            arr_pos_4[int(nw_pc)] += 1\n",
    "            if row['radiant_win'] == True:\n",
    "                arr_pos_4_wins[int(nw_pc)] += 1\n",
    "        elif row[string] == 5:\n",
    "            arr_pos_5[int(nw_pc)] += 1\n",
    "            if row['radiant_win'] == True:\n",
    "                arr_pos_5_wins[int(nw_pc)] += 1\n",
    "    j += 1\n",
    "    if j % 1000 == 0:\n",
    "        print(j)"
   ]
  },
  {
   "cell_type": "code",
   "execution_count": 38,
   "metadata": {},
   "outputs": [],
   "source": [
    "import matplotlib.pyplot as plt"
   ]
  },
  {
   "cell_type": "code",
   "execution_count": 72,
   "metadata": {},
   "outputs": [
    {
     "data": {
      "text/plain": [
       "41833.0"
      ]
     },
     "execution_count": 72,
     "metadata": {},
     "output_type": "execute_result"
    }
   ],
   "source": [
    "sum(arr_pos_5)"
   ]
  },
  {
   "cell_type": "code",
   "execution_count": 64,
   "metadata": {},
   "outputs": [
    {
     "data": {
      "image/png": "[encoded data removed]",
      "text/plain": [
       "<Figure size 432x288 with 1 Axes>"
      ]
     },
     "metadata": {
      "needs_background": "light"
     },
     "output_type": "display_data"
    }
   ],
   "source": [
    "for i in range(1, 6):\n",
    "    string = 'arr_pos_' + str(i)\n",
    "    plt.plot(string)"
   ]
  },
  {
   "cell_type": "code",
   "execution_count": 95,
   "metadata": {},
   "outputs": [
    {
     "data": {
      "text/plain": [
       "[<matplotlib.lines.Line2D at 0x123615d10>]"
      ]
     },
     "execution_count": 95,
     "metadata": {},
     "output_type": "execute_result"
    },
    {
     "data": {
      "image/png": "[encoded data removed]",
      "text/plain": [
       "<Figure size 432x288 with 1 Axes>"
      ]
     },
     "metadata": {
      "needs_background": "light"
     },
     "output_type": "display_data"
    }
   ],
   "source": [
    "plt.plot(arr_pos_1)"
   ]
  },
  {
   "cell_type": "code",
   "execution_count": 96,
   "metadata": {},
   "outputs": [
    {
     "data": {
      "text/plain": [
       "[<matplotlib.lines.Line2D at 0x120f63b90>]"
      ]
     },
     "execution_count": 96,
     "metadata": {},
     "output_type": "execute_result"
    },
    {
     "data": {
      "image/png": "[encoded data removed]",
      "text/plain": [
       "<Figure size 432x288 with 1 Axes>"
      ]
     },
     "metadata": {
      "needs_background": "light"
     },
     "output_type": "display_data"
    }
   ],
   "source": [
    "plt.plot(arr_pos_2)"
   ]
  },
  {
   "cell_type": "code",
   "execution_count": 98,
   "metadata": {},
   "outputs": [
    {
     "data": {
      "text/plain": [
       "[<matplotlib.lines.Line2D at 0x120fddd50>]"
      ]
     },
     "execution_count": 98,
     "metadata": {},
     "output_type": "execute_result"
    },
    {
     "data": {
      "image/png": "[encoded data removed]",
      "text/plain": [
       "<Figure size 432x288 with 1 Axes>"
      ]
     },
     "metadata": {
      "needs_background": "light"
     },
     "output_type": "display_data"
    }
   ],
   "source": [
    "plt.plot(arr_pos_3)"
   ]
  },
  {
   "cell_type": "code",
   "execution_count": 99,
   "metadata": {},
   "outputs": [
    {
     "data": {
      "text/plain": [
       "[<matplotlib.lines.Line2D at 0x121068250>]"
      ]
     },
     "execution_count": 99,
     "metadata": {},
     "output_type": "execute_result"
    },
    {
     "data": {
      "image/png": "[encoded data removed]",
      "text/plain": [
       "<Figure size 432x288 with 1 Axes>"
      ]
     },
     "metadata": {
      "needs_background": "light"
     },
     "output_type": "display_data"
    }
   ],
   "source": [
    "plt.plot(arr_pos_4)"
   ]
  },
  {
   "cell_type": "code",
   "execution_count": 100,
   "metadata": {},
   "outputs": [
    {
     "data": {
      "text/plain": [
       "[<matplotlib.lines.Line2D at 0x1210ded10>]"
      ]
     },
     "execution_count": 100,
     "metadata": {},
     "output_type": "execute_result"
    },
    {
     "data": {
      "image/png": "[encoded data removed]",
      "text/plain": [
       "<Figure size 432x288 with 1 Axes>"
      ]
     },
     "metadata": {
      "needs_background": "light"
     },
     "output_type": "display_data"
    }
   ],
   "source": [
    "plt.plot(arr_pos_5)"
   ]
  },
  {
   "cell_type": "code",
   "execution_count": 122,
   "metadata": {},
   "outputs": [
    {
     "ename": "AttributeError",
     "evalue": "module 'matplotlib.pyplot' has no attribute 'y'",
     "output_type": "error",
     "traceback": [
      "\u001b[0;31m---------------------------------------------------------------------------\u001b[0m",
      "\u001b[0;31mAttributeError\u001b[0m                            Traceback (most recent call last)",
      "\u001b[0;32m<ipython-input-122-7ca601f4a750>\u001b[0m in \u001b[0;36m<module>\u001b[0;34m\u001b[0m\n\u001b[0;32m----> 1\u001b[0;31m \u001b[0mplt\u001b[0m\u001b[0;34m.\u001b[0m\u001b[0my\u001b[0m\u001b[0;34m\u001b[0m\u001b[0;34m\u001b[0m\u001b[0m\n\u001b[0m",
      "\u001b[0;31mAttributeError\u001b[0m: module 'matplotlib.pyplot' has no attribute 'y'"
     ]
    }
   ],
   "source": [
    "plt.y"
   ]
  },
  {
   "cell_type": "code",
   "execution_count": 125,
   "metadata": {},
   "outputs": [
    {
     "name": "stderr",
     "output_type": "stream",
     "text": [
      "/usr/local/lib/python3.7/site-packages/ipykernel_launcher.py:1: RuntimeWarning: invalid value encountered in true_divide\n",
      "  \"\"\"Entry point for launching an IPython kernel.\n"
     ]
    },
    {
     "data": {
      "text/plain": [
       "[<matplotlib.lines.Line2D at 0x125e63450>]"
      ]
     },
     "execution_count": 125,
     "metadata": {},
     "output_type": "execute_result"
    },
    {
     "data": {
      "image/png": "[encoded data removed]",
      "text/plain": [
       "<Figure size 432x288 with 1 Axes>"
      ]
     },
     "metadata": {
      "needs_background": "light"
     },
     "output_type": "display_data"
    }
   ],
   "source": [
    "plt.plot(arr_pos_1_wins / arr_pos_1 * 100)"
   ]
  },
  {
   "cell_type": "code",
   "execution_count": 127,
   "metadata": {},
   "outputs": [
    {
     "name": "stderr",
     "output_type": "stream",
     "text": [
      "/usr/local/lib/python3.7/site-packages/ipykernel_launcher.py:1: RuntimeWarning: invalid value encountered in true_divide\n",
      "  \"\"\"Entry point for launching an IPython kernel.\n"
     ]
    },
    {
     "data": {
      "text/plain": [
       "[<matplotlib.lines.Line2D at 0x125999290>]"
      ]
     },
     "execution_count": 127,
     "metadata": {},
     "output_type": "execute_result"
    },
    {
     "data": {
      "image/png": "[encoded data removed]",
      "text/plain": [
       "<Figure size 432x288 with 1 Axes>"
      ]
     },
     "metadata": {
      "needs_background": "light"
     },
     "output_type": "display_data"
    }
   ],
   "source": [
    "plt.plot(arr_pos_5_wins / arr_pos_5 * 100)"
   ]
  },
  {
   "cell_type": "code",
   "execution_count": 110,
   "metadata": {},
   "outputs": [
    {
     "data": {
      "text/plain": [
       "25.0"
      ]
     },
     "execution_count": 110,
     "metadata": {},
     "output_type": "execute_result"
    }
   ],
   "source": [
    "arr_pos_1[0]"
   ]
  },
  {
   "cell_type": "code",
   "execution_count": 117,
   "metadata": {},
   "outputs": [
    {
     "data": {
      "text/plain": [
       "8.0"
      ]
     },
     "execution_count": 117,
     "metadata": {},
     "output_type": "execute_result"
    }
   ],
   "source": [
    "arr_pos_1_wins[0]"
   ]
  },
  {
   "cell_type": "code",
   "execution_count": 107,
   "metadata": {},
   "outputs": [
    {
     "data": {
      "text/plain": [
       "array([2.400e+01, 4.300e+01, 1.570e+02, 4.170e+02, 9.800e+02, 1.812e+03,\n",
       "       3.043e+03, 4.843e+03, 7.075e+03, 8.425e+03, 8.303e+03, 7.066e+03,\n",
       "       5.364e+03, 3.988e+03, 2.827e+03, 2.031e+03, 1.650e+03, 1.388e+03,\n",
       "       1.330e+03, 1.544e+03, 2.213e+03, 1.551e+03, 1.541e+03, 1.603e+03,\n",
       "       1.633e+03, 1.664e+03, 1.502e+03, 1.483e+03, 1.362e+03, 1.310e+03,\n",
       "       1.178e+03, 1.001e+03, 8.240e+02, 6.170e+02, 5.480e+02, 3.940e+02,\n",
       "       2.910e+02, 1.980e+02, 1.370e+02, 1.050e+02, 6.800e+01, 3.800e+01,\n",
       "       3.200e+01, 1.900e+01, 1.600e+01, 6.000e+00, 6.000e+00, 7.000e+00,\n",
       "       2.000e+00, 0.000e+00, 0.000e+00, 0.000e+00, 0.000e+00, 0.000e+00,\n",
       "       0.000e+00, 0.000e+00, 0.000e+00, 0.000e+00, 0.000e+00, 0.000e+00,\n",
       "       0.000e+00, 0.000e+00, 0.000e+00, 0.000e+00, 0.000e+00, 0.000e+00,\n",
       "       0.000e+00, 0.000e+00, 0.000e+00, 0.000e+00, 0.000e+00, 0.000e+00,\n",
       "       0.000e+00, 0.000e+00, 0.000e+00, 2.000e+00, 0.000e+00, 0.000e+00,\n",
       "       0.000e+00, 0.000e+00, 0.000e+00, 0.000e+00, 0.000e+00, 0.000e+00,\n",
       "       0.000e+00, 0.000e+00, 0.000e+00, 0.000e+00, 0.000e+00, 0.000e+00,\n",
       "       0.000e+00, 0.000e+00, 0.000e+00, 3.000e+00, 0.000e+00, 1.000e+00,\n",
       "       0.000e+00, 0.000e+00, 1.000e+00, 0.000e+00])"
      ]
     },
     "execution_count": 107,
     "metadata": {},
     "output_type": "execute_result"
    }
   ],
   "source": [
    "arr_pos_5"
   ]
  }
 ],
 "metadata": {
  "kernelspec": {
   "display_name": "Python 3",
   "language": "python",
   "name": "python3"
  },
  "language_info": {
   "codemirror_mode": {
    "name": "ipython",
    "version": 3
   },
   "file_extension": ".py",
   "mimetype": "text/x-python",
   "name": "python",
   "nbconvert_exporter": "python",
   "pygments_lexer": "ipython3",
   "version": "3.7.6"
  }
 },
 "nbformat": 4,
 "nbformat_minor": 4
}
